{
 "cells": [
  {
   "cell_type": "code",
   "execution_count": 27,
   "metadata": {},
   "outputs": [],
   "source": [
    "# WHILE: probar while 'O' in tablero, or so"
   ]
  },
  {
   "cell_type": "code",
   "execution_count": 28,
   "metadata": {},
   "outputs": [],
   "source": [
    "import numpy as np\n",
    "import random"
   ]
  },
  {
   "cell_type": "code",
   "execution_count": 29,
   "metadata": {},
   "outputs": [
    {
     "name": "stdout",
     "output_type": "stream",
     "text": [
      "[[' ' ' ' ' ' ' ' ' ' ' ' ' ' ' ' ' ' ' ']\n",
      " [' ' ' ' ' ' ' ' ' ' ' ' ' ' ' ' ' ' ' ']\n",
      " [' ' ' ' ' ' ' ' ' ' ' ' ' ' ' ' ' ' ' ']\n",
      " [' ' ' ' ' ' ' ' ' ' ' ' ' ' ' ' ' ' ' ']\n",
      " [' ' ' ' ' ' ' ' ' ' ' ' ' ' ' ' ' ' ' ']\n",
      " [' ' ' ' ' ' ' ' ' ' ' ' ' ' ' ' ' ' ' ']\n",
      " [' ' ' ' ' ' ' ' ' ' ' ' ' ' ' ' ' ' ' ']\n",
      " [' ' ' ' ' ' ' ' ' ' ' ' ' ' ' ' ' ' ' ']\n",
      " [' ' ' ' ' ' ' ' ' ' ' ' ' ' ' ' ' ' ' ']\n",
      " [' ' ' ' ' ' ' ' ' ' ' ' ' ' ' ' ' ' ' ']]\n"
     ]
    }
   ],
   "source": [
    "# Inicializamos L O S tableroS vacíoS (un tercero VACÍO )\n",
    "tablero_j = np.full((10,10), fill_value=\" \")\n",
    "print(tablero_j)"
   ]
  },
  {
   "cell_type": "code",
   "execution_count": 30,
   "metadata": {},
   "outputs": [
    {
     "name": "stdout",
     "output_type": "stream",
     "text": [
      "[[' ' ' ' ' ' ' ' ' ' ' ' ' ' ' ' ' ' ' ']\n",
      " [' ' ' ' ' ' ' ' ' ' ' ' ' ' ' ' ' ' ' ']\n",
      " [' ' ' ' ' ' ' ' ' ' ' ' ' ' ' ' ' ' ' ']\n",
      " [' ' ' ' ' ' ' ' ' ' ' ' ' ' ' ' ' ' ' ']\n",
      " [' ' ' ' ' ' ' ' ' ' ' ' ' ' ' ' ' ' ' ']\n",
      " [' ' ' ' ' ' ' ' ' ' ' ' ' ' ' ' ' ' ' ']\n",
      " [' ' ' ' ' ' ' ' ' ' ' ' ' ' ' ' ' ' ' ']\n",
      " [' ' ' ' ' ' ' ' ' ' ' ' ' ' ' ' ' ' ' ']\n",
      " [' ' ' ' ' ' ' ' ' ' ' ' ' ' ' ' ' ' ' ']\n",
      " [' ' ' ' ' ' ' ' ' ' ' ' ' ' ' ' ' ' ' ']]\n"
     ]
    }
   ],
   "source": [
    "tablero_m = np.full((10,10), fill_value=\" \")\n",
    "print(tablero_m)"
   ]
  },
  {
   "cell_type": "code",
   "execution_count": null,
   "metadata": {},
   "outputs": [],
   "source": [
    "tablero_vacio = np.full((10,10), fill_value=\" \")"
   ]
  },
  {
   "cell_type": "code",
   "execution_count": 31,
   "metadata": {},
   "outputs": [],
   "source": [
    "# # Inicializamos el tablero vacío\n",
    "# tablero = np.full((10,10), fill_value=\" \")\n",
    "# print(tablero)"
   ]
  },
  {
   "cell_type": "code",
   "execution_count": 32,
   "metadata": {},
   "outputs": [],
   "source": [
    "# 1. LISTA D LISTAS con las posiciones de cada barco\n",
    "\n",
    "barco_4 = [(8,6), (8,7), (8,8), (8,9)]\n",
    "\n",
    "barco_3_1 = [(0,1), (1,1), (2,1)]\n",
    "barco_3_2 = [(2,6), (3,6), (4,6)]\n",
    "\n",
    "barco_2_1 = [(6,0), (6,1)]\n",
    "barco_2_2 = [(8,3), (9,3)]\n",
    "barco_2_3= [(4,9), (5,9)]\n",
    "\n",
    "\n",
    "barco_1_1 = [(1,8)]\n",
    "barco_1_2 = [(4,3)]\n",
    "barco_1_3 = [(1,4)]\n",
    "barco_1_4 = [(9,0)]\n",
    "\n",
    "# lista d barcos\n",
    "\n",
    "lista_barcos = [barco_4, barco_3_1, barco_3_2, barco_2_1, barco_2_2, barco_2_3, barco_1_1, barco_1_2, barco_1_3, barco_1_4]\n",
    "\n",
    "# 2. LISTA D DICC\n",
    "#\n",
    "#barcos = { 'barco_4' : [(8,6), (8,7), (8,8), (8,9)], 'barco_3_1' : [(0,1), (1,1), (2,1)]}\n"
   ]
  },
  {
   "cell_type": "code",
   "execution_count": 33,
   "metadata": {},
   "outputs": [],
   "source": [
    "# Recorremos con un for las posiciones del barco para colocarlas en el tablero_j y lo encapsulamos en una función\n",
    "def colocar_barco_j(tablero_j, barco):\n",
    "    for elem in barco:\n",
    "        print(\"Colocando barco en posicion\", elem)\n",
    "        tablero_j[elem] = \"O\"\n",
    "    return tablero_j"
   ]
  },
  {
   "cell_type": "code",
   "execution_count": 34,
   "metadata": {},
   "outputs": [],
   "source": [
    "# Con un bucle for, hacemos uso de colocar barco, recorriendonos una lista de barcos y lo encapsulamos en una función\n",
    "def colocar_barcos_j(tablero_j, barcos):\n",
    "    for barco in barcos:\n",
    "        tablero_j = colocar_barco_j(tablero_j, barco)\n",
    "    return tablero_j"
   ]
  },
  {
   "cell_type": "code",
   "execution_count": 35,
   "metadata": {},
   "outputs": [],
   "source": [
    "# LO MISMO XA TABLERO_M\n",
    "def colocar_barco_m(tablero_m, barco):\n",
    "    for elem in barco:\n",
    "        print(\"Colocando barco en posicion\", elem)\n",
    "        tablero_m[elem] = \"O\"\n",
    "    return tablero_m"
   ]
  },
  {
   "cell_type": "code",
   "execution_count": 36,
   "metadata": {},
   "outputs": [],
   "source": [
    "def colocar_barcos_m(tablero_m, barcos):\n",
    "    for barco in barcos:\n",
    "        tablero_m = colocar_barco_m(tablero_m, barco)\n",
    "    return tablero_m"
   ]
  },
  {
   "cell_type": "code",
   "execution_count": 37,
   "metadata": {},
   "outputs": [
    {
     "name": "stdout",
     "output_type": "stream",
     "text": [
      "[[' ' ' ' ' ' ' ' ' ' ' ' ' ' ' ' ' ' ' ']\n",
      " [' ' ' ' ' ' ' ' ' ' ' ' ' ' ' ' ' ' ' ']\n",
      " [' ' ' ' ' ' ' ' ' ' ' ' ' ' ' ' ' ' ' ']\n",
      " [' ' ' ' ' ' ' ' ' ' ' ' ' ' ' ' ' ' ' ']\n",
      " [' ' ' ' ' ' ' ' ' ' ' ' ' ' ' ' ' ' ' ']\n",
      " [' ' ' ' ' ' ' ' ' ' ' ' ' ' ' ' ' ' ' ']\n",
      " [' ' ' ' ' ' ' ' ' ' ' ' ' ' ' ' ' ' ' ']\n",
      " [' ' ' ' ' ' ' ' ' ' ' ' ' ' ' ' ' ' ' ']\n",
      " [' ' ' ' ' ' ' ' ' ' ' ' ' ' ' ' ' ' ' ']\n",
      " [' ' ' ' ' ' ' ' ' ' ' ' ' ' ' ' ' ' ' ']]\n"
     ]
    }
   ],
   "source": [
    "# Inicializamos el tablero de nuevo para probar\n",
    "tablero_j = np.full((10,10), fill_value=\" \")\n",
    "print(tablero_j)"
   ]
  },
  {
   "cell_type": "code",
   "execution_count": 38,
   "metadata": {},
   "outputs": [
    {
     "name": "stdout",
     "output_type": "stream",
     "text": [
      "[[' ' ' ' ' ' ' ' ' ' ' ' ' ' ' ' ' ' ' ']\n",
      " [' ' ' ' ' ' ' ' ' ' ' ' ' ' ' ' ' ' ' ']\n",
      " [' ' ' ' ' ' ' ' ' ' ' ' ' ' ' ' ' ' ' ']\n",
      " [' ' ' ' ' ' ' ' ' ' ' ' ' ' ' ' ' ' ' ']\n",
      " [' ' ' ' ' ' ' ' ' ' ' ' ' ' ' ' ' ' ' ']\n",
      " [' ' ' ' ' ' ' ' ' ' ' ' ' ' ' ' ' ' ' ']\n",
      " [' ' ' ' ' ' ' ' ' ' ' ' ' ' ' ' ' ' ' ']\n",
      " [' ' ' ' ' ' ' ' ' ' ' ' ' ' ' ' ' ' ' ']\n",
      " [' ' ' ' ' ' ' ' ' ' ' ' ' ' ' ' ' ' ' ']\n",
      " [' ' ' ' ' ' ' ' ' ' ' ' ' ' ' ' ' ' ' ']]\n"
     ]
    }
   ],
   "source": [
    "tablero_m = np.full((10,10), fill_value=\" \")\n",
    "print(tablero_m)"
   ]
  },
  {
   "cell_type": "code",
   "execution_count": 39,
   "metadata": {},
   "outputs": [
    {
     "name": "stdout",
     "output_type": "stream",
     "text": [
      "Colocando barco en posicion (8, 6)\n",
      "Colocando barco en posicion (8, 7)\n",
      "Colocando barco en posicion (8, 8)\n",
      "Colocando barco en posicion (8, 9)\n",
      "Colocando barco en posicion (0, 1)\n",
      "Colocando barco en posicion (1, 1)\n",
      "Colocando barco en posicion (2, 1)\n",
      "Colocando barco en posicion (2, 6)\n",
      "Colocando barco en posicion (3, 6)\n",
      "Colocando barco en posicion (4, 6)\n",
      "Colocando barco en posicion (6, 0)\n",
      "Colocando barco en posicion (6, 1)\n",
      "Colocando barco en posicion (8, 3)\n",
      "Colocando barco en posicion (9, 3)\n",
      "Colocando barco en posicion (4, 9)\n",
      "Colocando barco en posicion (5, 9)\n",
      "Colocando barco en posicion (1, 8)\n",
      "Colocando barco en posicion (4, 3)\n",
      "Colocando barco en posicion (1, 4)\n",
      "Colocando barco en posicion (9, 0)\n",
      "[[' ' 'O' ' ' ' ' ' ' ' ' ' ' ' ' ' ' ' ']\n",
      " [' ' 'O' ' ' ' ' 'O' ' ' ' ' ' ' 'O' ' ']\n",
      " [' ' 'O' ' ' ' ' ' ' ' ' 'O' ' ' ' ' ' ']\n",
      " [' ' ' ' ' ' ' ' ' ' ' ' 'O' ' ' ' ' ' ']\n",
      " [' ' ' ' ' ' 'O' ' ' ' ' 'O' ' ' ' ' 'O']\n",
      " [' ' ' ' ' ' ' ' ' ' ' ' ' ' ' ' ' ' 'O']\n",
      " ['O' 'O' ' ' ' ' ' ' ' ' ' ' ' ' ' ' ' ']\n",
      " [' ' ' ' ' ' ' ' ' ' ' ' ' ' ' ' ' ' ' ']\n",
      " [' ' ' ' ' ' 'O' ' ' ' ' 'O' 'O' 'O' 'O']\n",
      " ['O' ' ' ' ' 'O' ' ' ' ' ' ' ' ' ' ' ' ']]\n"
     ]
    }
   ],
   "source": [
    "# Colocamos la lista de barcos mediante la función creada\n",
    "tablero_j = colocar_barcos_j(tablero_j, lista_barcos)\n",
    "print(tablero_j)"
   ]
  },
  {
   "cell_type": "code",
   "execution_count": 40,
   "metadata": {},
   "outputs": [
    {
     "name": "stdout",
     "output_type": "stream",
     "text": [
      "Colocando barco en posicion (8, 6)\n",
      "Colocando barco en posicion (8, 7)\n",
      "Colocando barco en posicion (8, 8)\n",
      "Colocando barco en posicion (8, 9)\n",
      "Colocando barco en posicion (0, 1)\n",
      "Colocando barco en posicion (1, 1)\n",
      "Colocando barco en posicion (2, 1)\n",
      "Colocando barco en posicion (2, 6)\n",
      "Colocando barco en posicion (3, 6)\n",
      "Colocando barco en posicion (4, 6)\n",
      "Colocando barco en posicion (6, 0)\n",
      "Colocando barco en posicion (6, 1)\n",
      "Colocando barco en posicion (8, 3)\n",
      "Colocando barco en posicion (9, 3)\n",
      "Colocando barco en posicion (4, 9)\n",
      "Colocando barco en posicion (5, 9)\n",
      "Colocando barco en posicion (1, 8)\n",
      "Colocando barco en posicion (4, 3)\n",
      "Colocando barco en posicion (1, 4)\n",
      "Colocando barco en posicion (9, 0)\n",
      "[[' ' 'O' ' ' ' ' ' ' ' ' ' ' ' ' ' ' ' ']\n",
      " [' ' 'O' ' ' ' ' 'O' ' ' ' ' ' ' 'O' ' ']\n",
      " [' ' 'O' ' ' ' ' ' ' ' ' 'O' ' ' ' ' ' ']\n",
      " [' ' ' ' ' ' ' ' ' ' ' ' 'O' ' ' ' ' ' ']\n",
      " [' ' ' ' ' ' 'O' ' ' ' ' 'O' ' ' ' ' 'O']\n",
      " [' ' ' ' ' ' ' ' ' ' ' ' ' ' ' ' ' ' 'O']\n",
      " ['O' 'O' ' ' ' ' ' ' ' ' ' ' ' ' ' ' ' ']\n",
      " [' ' ' ' ' ' ' ' ' ' ' ' ' ' ' ' ' ' ' ']\n",
      " [' ' ' ' ' ' 'O' ' ' ' ' 'O' 'O' 'O' 'O']\n",
      " ['O' ' ' ' ' 'O' ' ' ' ' ' ' ' ' ' ' ' ']]\n"
     ]
    }
   ],
   "source": [
    "tablero_m = colocar_barcos_m(tablero_m, lista_barcos)\n",
    "print(tablero_m)"
   ]
  },
  {
   "cell_type": "code",
   "execution_count": 41,
   "metadata": {},
   "outputs": [
    {
     "name": "stdout",
     "output_type": "stream",
     "text": [
      "[[' ' 'O' ' ' ' ' ' ' ' ' ' ' ' ' ' ' ' ']\n",
      " [' ' 'O' ' ' ' ' 'O' ' ' ' ' ' ' 'O' ' ']\n",
      " [' ' 'O' ' ' ' ' ' ' ' ' 'O' ' ' ' ' ' ']\n",
      " [' ' ' ' ' ' ' ' ' ' ' ' 'O' ' ' ' ' ' ']\n",
      " [' ' ' ' ' ' 'O' ' ' ' ' 'O' ' ' ' ' 'O']\n",
      " [' ' ' ' ' ' ' ' ' ' ' ' ' ' ' ' ' ' 'O']\n",
      " ['O' 'O' ' ' ' ' ' ' ' ' ' ' ' ' ' ' ' ']\n",
      " [' ' ' ' ' ' ' ' ' ' ' ' ' ' ' ' ' ' ' ']\n",
      " [' ' ' ' ' ' 'O' ' ' ' ' 'O' 'O' 'O' 'O']\n",
      " ['O' ' ' ' ' 'O' ' ' ' ' ' ' ' ' ' ' ' ']]\n"
     ]
    }
   ],
   "source": [
    "print(tablero_m)"
   ]
  },
  {
   "cell_type": "code",
   "execution_count": 42,
   "metadata": {},
   "outputs": [],
   "source": [
    "# D O N E : UNIR 1 y 2 xa disparo con input: PIDE INPUT a jug y devuelve Tocado o Agua.\n",
    "\n",
    "def turno_jugador():\n",
    "    row = int(input('Row: ')) -1\n",
    "    col = int(input('Col: ')) -1\n",
    "    return (row, col)\n",
    "    \n",
    "\n",
    "def disparo_jugador(tablero_j, turno_jugador):\n",
    "    if tablero_j[turno_jugador] == \"O\":\n",
    "        print(\"Tocado\")\n",
    "        tablero_j[turno_jugador] = \"X\"\n",
    "        disparo = 'Tocado'\n",
    "    else:\n",
    "        print(\"Agua\")\n",
    "        tablero_j[turno_jugador] = \"A\"\n",
    "        disparo = 'Agua'\n",
    "    \n",
    "    return tablero_j, disparo"
   ]
  },
  {
   "cell_type": "code",
   "execution_count": 43,
   "metadata": {},
   "outputs": [
    {
     "data": {
      "text/plain": [
       "(2, 2)"
      ]
     },
     "execution_count": 43,
     "metadata": {},
     "output_type": "execute_result"
    }
   ],
   "source": [
    "j = turno_jugador(); j"
   ]
  },
  {
   "cell_type": "code",
   "execution_count": 44,
   "metadata": {},
   "outputs": [
    {
     "name": "stdout",
     "output_type": "stream",
     "text": [
      "Agua\n",
      "[[' ' 'O' ' ' ' ' ' ' ' ' ' ' ' ' ' ' ' ']\n",
      " [' ' 'O' ' ' ' ' 'O' ' ' ' ' ' ' 'O' ' ']\n",
      " [' ' 'O' 'A' ' ' ' ' ' ' 'O' ' ' ' ' ' ']\n",
      " [' ' ' ' ' ' ' ' ' ' ' ' 'O' ' ' ' ' ' ']\n",
      " [' ' ' ' ' ' 'O' ' ' ' ' 'O' ' ' ' ' 'O']\n",
      " [' ' ' ' ' ' ' ' ' ' ' ' ' ' ' ' ' ' 'O']\n",
      " ['O' 'O' ' ' ' ' ' ' ' ' ' ' ' ' ' ' ' ']\n",
      " [' ' ' ' ' ' ' ' ' ' ' ' ' ' ' ' ' ' ' ']\n",
      " [' ' ' ' ' ' 'O' ' ' ' ' 'O' 'O' 'O' 'O']\n",
      " ['O' ' ' ' ' 'O' ' ' ' ' ' ' ' ' ' ' ' ']]\n"
     ]
    }
   ],
   "source": [
    "tablero_j, disparo_j=disparo_jugador(tablero_j,j)\n",
    "print(tablero_j)"
   ]
  },
  {
   "cell_type": "code",
   "execution_count": 45,
   "metadata": {},
   "outputs": [],
   "source": [
    "# D O N E : Los mismo, pero con random para la máq\n",
    "def turno_maquina():\n",
    "    # Subtract 1 to adjust for python 0-based indexing\n",
    "    row = np.random.randint(10)\n",
    "    col = np.random.randint(10)\n",
    "    return (row, col)\n",
    "    \n",
    "\n",
    "def disparo_maquina(tablero_m, turno_maquina):\n",
    "    if tablero_m[turno_maquina] == \"O\":\n",
    "        print(\"Tocado\")\n",
    "        tablero_m[turno_maquina] = \"X\"\n",
    "        disparo = 'Tocado'\n",
    "    else:\n",
    "        print(\"Agua\")\n",
    "        tablero_m[turno_maquina] = \"A\"\n",
    "        disparo = 'Agua'\n",
    "    \n",
    "    return tablero_m, disparo"
   ]
  },
  {
   "cell_type": "code",
   "execution_count": 46,
   "metadata": {},
   "outputs": [
    {
     "data": {
      "text/plain": [
       "(9, 9)"
      ]
     },
     "execution_count": 46,
     "metadata": {},
     "output_type": "execute_result"
    }
   ],
   "source": [
    "m = turno_maquina(); m"
   ]
  },
  {
   "cell_type": "code",
   "execution_count": 21,
   "metadata": {},
   "outputs": [
    {
     "name": "stdout",
     "output_type": "stream",
     "text": [
      "Tocado\n",
      "[[' ' 'O' ' ' ' ' ' ' ' ' ' ' ' ' ' ' ' ']\n",
      " [' ' 'O' ' ' ' ' 'O' ' ' ' ' ' ' 'O' ' ']\n",
      " [' ' 'O' ' ' ' ' ' ' ' ' 'O' ' ' ' ' ' ']\n",
      " [' ' ' ' ' ' ' ' ' ' ' ' 'O' ' ' ' ' ' ']\n",
      " [' ' ' ' ' ' 'O' ' ' ' ' 'O' ' ' ' ' 'O']\n",
      " [' ' ' ' ' ' ' ' ' ' ' ' ' ' ' ' ' ' 'O']\n",
      " ['O' 'O' ' ' ' ' ' ' ' ' ' ' ' ' ' ' ' ']\n",
      " [' ' ' ' ' ' ' ' ' ' ' ' ' ' ' ' ' ' ' ']\n",
      " [' ' ' ' ' ' 'O' ' ' ' ' 'O' 'O' 'O' 'O']\n",
      " ['X' ' ' ' ' 'O' ' ' ' ' ' ' ' ' ' ' ' ']]\n"
     ]
    }
   ],
   "source": [
    "tablero_m, disparo_m = disparo_maquina(tablero_m,m)\n",
    "print(tablero_m)"
   ]
  },
  {
   "cell_type": "code",
   "execution_count": null,
   "metadata": {},
   "outputs": [],
   "source": [
    "# MAL: solo coge el primer input del jug; aunque se ingresen otros, solo se imprime el primer disparo\n",
    "\n",
    "# disparo_j=''\n",
    "# disparo_m=''\n",
    "\n",
    "# while 'O' in tablero_j and 'O' in tablero_m:\n",
    "#     while disparo_j != 'Agua':\n",
    "#         j = turno_jugador()\n",
    "#         tablero_m, disparo_m=disparo_jugador(tablero_m,m)\n",
    "#         print('Has dado en:')\n",
    "#         print(tablero_m)\n",
    "        \n",
    "#     while disparo_m != 'Agua':\n",
    "#         m = turno_maquina()\n",
    "#         tablero_j, disparo_j=disparo_maquina(tablero_j,j)\n",
    "#         print('Bender ha dado en:')\n",
    "#         print(tablero_j)\n",
    "\n",
    "#     disparo_j = ''\n",
    "#     disparo_m = ''\n",
    "# "
   ]
  },
  {
   "cell_type": "code",
   "execution_count": 47,
   "metadata": {},
   "outputs": [
    {
     "name": "stdout",
     "output_type": "stream",
     "text": [
      "Has dado en:\n",
      "Agua\n",
      "[['A' 'O' ' ' ' ' ' ' ' ' ' ' ' ' ' ' ' ']\n",
      " [' ' 'O' ' ' ' ' 'O' ' ' ' ' ' ' 'O' ' ']\n",
      " [' ' 'O' ' ' ' ' ' ' ' ' 'O' ' ' ' ' ' ']\n",
      " [' ' ' ' ' ' ' ' ' ' ' ' 'O' ' ' ' ' ' ']\n",
      " [' ' ' ' ' ' 'O' ' ' ' ' 'O' ' ' ' ' 'O']\n",
      " [' ' ' ' ' ' ' ' ' ' ' ' ' ' ' ' ' ' 'O']\n",
      " ['O' 'O' ' ' ' ' ' ' ' ' ' ' ' ' ' ' ' ']\n",
      " [' ' ' ' ' ' ' ' ' ' ' ' ' ' ' ' ' ' ' ']\n",
      " [' ' ' ' ' ' 'O' ' ' ' ' 'O' 'O' 'O' 'O']\n",
      " ['O' ' ' ' ' 'O' ' ' ' ' ' ' ' ' ' ' ' ']]\n",
      "Bender ha dado en:\n",
      "Agua\n",
      "[[' ' 'O' ' ' ' ' ' ' ' ' ' ' ' ' ' ' ' ']\n",
      " [' ' 'O' ' ' ' ' 'O' ' ' ' ' ' ' 'O' ' ']\n",
      " [' ' 'O' 'A' 'A' ' ' ' ' 'O' ' ' ' ' ' ']\n",
      " [' ' ' ' ' ' ' ' ' ' ' ' 'O' ' ' ' ' ' ']\n",
      " [' ' ' ' ' ' 'O' ' ' ' ' 'O' ' ' ' ' 'O']\n",
      " [' ' ' ' ' ' ' ' ' ' ' ' ' ' ' ' ' ' 'O']\n",
      " ['O' 'O' ' ' ' ' ' ' ' ' ' ' ' ' ' ' ' ']\n",
      " [' ' ' ' ' ' ' ' ' ' ' ' ' ' ' ' ' ' ' ']\n",
      " [' ' ' ' ' ' 'O' ' ' ' ' 'O' 'O' 'O' 'O']\n",
      " ['O' ' ' ' ' 'O' ' ' ' ' ' ' ' ' ' ' ' ']]\n",
      "Has dado en:\n",
      "Tocado\n",
      "[['A' 'O' ' ' ' ' ' ' ' ' ' ' ' ' ' ' ' ']\n",
      " [' ' 'X' ' ' ' ' 'O' ' ' ' ' ' ' 'O' ' ']\n",
      " [' ' 'O' ' ' ' ' ' ' ' ' 'O' ' ' ' ' ' ']\n",
      " [' ' ' ' ' ' ' ' ' ' ' ' 'O' ' ' ' ' ' ']\n",
      " [' ' ' ' ' ' 'O' ' ' ' ' 'O' ' ' ' ' 'O']\n",
      " [' ' ' ' ' ' ' ' ' ' ' ' ' ' ' ' ' ' 'O']\n",
      " ['O' 'O' ' ' ' ' ' ' ' ' ' ' ' ' ' ' ' ']\n",
      " [' ' ' ' ' ' ' ' ' ' ' ' ' ' ' ' ' ' ' ']\n",
      " [' ' ' ' ' ' 'O' ' ' ' ' 'O' 'O' 'O' 'O']\n",
      " ['O' ' ' ' ' 'O' ' ' ' ' ' ' ' ' ' ' ' ']]\n",
      "Has dado en:\n",
      "Tocado\n",
      "[['A' 'O' ' ' ' ' ' ' ' ' ' ' ' ' ' ' ' ']\n",
      " [' ' 'X' ' ' ' ' 'O' ' ' ' ' ' ' 'O' ' ']\n",
      " [' ' 'X' ' ' ' ' ' ' ' ' 'O' ' ' ' ' ' ']\n",
      " [' ' ' ' ' ' ' ' ' ' ' ' 'O' ' ' ' ' ' ']\n",
      " [' ' ' ' ' ' 'O' ' ' ' ' 'O' ' ' ' ' 'O']\n",
      " [' ' ' ' ' ' ' ' ' ' ' ' ' ' ' ' ' ' 'O']\n",
      " ['O' 'O' ' ' ' ' ' ' ' ' ' ' ' ' ' ' ' ']\n",
      " [' ' ' ' ' ' ' ' ' ' ' ' ' ' ' ' ' ' ' ']\n",
      " [' ' ' ' ' ' 'O' ' ' ' ' 'O' 'O' 'O' 'O']\n",
      " ['O' ' ' ' ' 'O' ' ' ' ' ' ' ' ' ' ' ' ']]\n",
      "Has dado en:\n",
      "Agua\n",
      "[['A' 'O' ' ' ' ' ' ' ' ' ' ' ' ' ' ' ' ']\n",
      " [' ' 'X' ' ' ' ' 'O' ' ' ' ' ' ' 'O' ' ']\n",
      " ['A' 'X' ' ' ' ' ' ' ' ' 'O' ' ' ' ' ' ']\n",
      " [' ' ' ' ' ' ' ' ' ' ' ' 'O' ' ' ' ' ' ']\n",
      " [' ' ' ' ' ' 'O' ' ' ' ' 'O' ' ' ' ' 'O']\n",
      " [' ' ' ' ' ' ' ' ' ' ' ' ' ' ' ' ' ' 'O']\n",
      " ['O' 'O' ' ' ' ' ' ' ' ' ' ' ' ' ' ' ' ']\n",
      " [' ' ' ' ' ' ' ' ' ' ' ' ' ' ' ' ' ' ' ']\n",
      " [' ' ' ' ' ' 'O' ' ' ' ' 'O' 'O' 'O' 'O']\n",
      " ['O' ' ' ' ' 'O' ' ' ' ' ' ' ' ' ' ' ' ']]\n",
      "Bender ha dado en:\n",
      "Agua\n",
      "[[' ' 'O' ' ' ' ' ' ' ' ' ' ' ' ' ' ' ' ']\n",
      " [' ' 'O' ' ' ' ' 'O' ' ' ' ' ' ' 'O' ' ']\n",
      " [' ' 'O' 'A' 'A' ' ' ' ' 'O' ' ' ' ' ' ']\n",
      " [' ' ' ' ' ' ' ' ' ' ' ' 'O' ' ' ' ' ' ']\n",
      " [' ' ' ' ' ' 'O' ' ' ' ' 'O' ' ' ' ' 'O']\n",
      " [' ' ' ' ' ' ' ' ' ' ' ' ' ' ' ' ' ' 'O']\n",
      " ['O' 'O' ' ' ' ' ' ' ' ' ' ' ' ' ' ' ' ']\n",
      " [' ' ' ' ' ' ' ' ' ' ' ' ' ' ' ' ' ' ' ']\n",
      " ['A' ' ' ' ' 'O' ' ' ' ' 'O' 'O' 'O' 'O']\n",
      " ['O' ' ' ' ' 'O' ' ' ' ' ' ' ' ' ' ' ' ']]\n",
      "Has dado en:\n",
      "Agua\n",
      "[['A' 'O' ' ' ' ' ' ' ' ' ' ' ' ' ' ' ' ']\n",
      " [' ' 'X' 'A' ' ' 'O' ' ' ' ' ' ' 'O' ' ']\n",
      " ['A' 'X' ' ' ' ' ' ' ' ' 'O' ' ' ' ' ' ']\n",
      " [' ' ' ' ' ' ' ' ' ' ' ' 'O' ' ' ' ' ' ']\n",
      " [' ' ' ' ' ' 'O' ' ' ' ' 'O' ' ' ' ' 'O']\n",
      " [' ' ' ' ' ' ' ' ' ' ' ' ' ' ' ' ' ' 'O']\n",
      " ['O' 'O' ' ' ' ' ' ' ' ' ' ' ' ' ' ' ' ']\n",
      " [' ' ' ' ' ' ' ' ' ' ' ' ' ' ' ' ' ' ' ']\n",
      " [' ' ' ' ' ' 'O' ' ' ' ' 'O' 'O' 'O' 'O']\n",
      " ['O' ' ' ' ' 'O' ' ' ' ' ' ' ' ' ' ' ' ']]\n",
      "Bender ha dado en:\n",
      "Agua\n",
      "[[' ' 'O' ' ' ' ' ' ' ' ' ' ' ' ' ' ' ' ']\n",
      " [' ' 'O' ' ' ' ' 'O' ' ' ' ' ' ' 'O' ' ']\n",
      " [' ' 'O' 'A' 'A' ' ' ' ' 'O' ' ' ' ' ' ']\n",
      " [' ' ' ' ' ' ' ' ' ' ' ' 'O' ' ' ' ' ' ']\n",
      " [' ' ' ' ' ' 'O' ' ' ' ' 'O' ' ' ' ' 'O']\n",
      " [' ' ' ' ' ' ' ' ' ' ' ' ' ' ' ' ' ' 'O']\n",
      " ['O' 'O' ' ' ' ' ' ' ' ' ' ' ' ' ' ' ' ']\n",
      " [' ' ' ' ' ' ' ' ' ' ' ' ' ' ' ' ' ' 'A']\n",
      " ['A' ' ' ' ' 'O' ' ' ' ' 'O' 'O' 'O' 'O']\n",
      " ['O' ' ' ' ' 'O' ' ' ' ' ' ' ' ' ' ' ' ']]\n",
      "Has dado en:\n",
      "Agua\n",
      "[['A' 'O' ' ' ' ' ' ' ' ' ' ' ' ' ' ' ' ']\n",
      " [' ' 'X' 'A' ' ' 'O' ' ' ' ' ' ' 'O' ' ']\n",
      " ['A' 'X' ' ' ' ' ' ' ' ' 'O' ' ' ' ' ' ']\n",
      " [' ' ' ' ' ' ' ' 'A' ' ' 'O' ' ' ' ' ' ']\n",
      " [' ' ' ' ' ' 'O' ' ' ' ' 'O' ' ' ' ' 'O']\n",
      " [' ' ' ' ' ' ' ' ' ' ' ' ' ' ' ' ' ' 'O']\n",
      " ['O' 'O' ' ' ' ' ' ' ' ' ' ' ' ' ' ' ' ']\n",
      " [' ' ' ' ' ' ' ' ' ' ' ' ' ' ' ' ' ' ' ']\n",
      " [' ' ' ' ' ' 'O' ' ' ' ' 'O' 'O' 'O' 'O']\n",
      " ['O' ' ' ' ' 'O' ' ' ' ' ' ' ' ' ' ' ' ']]\n",
      "Bender ha dado en:\n",
      "Tocado\n",
      "[[' ' 'O' ' ' ' ' ' ' ' ' ' ' ' ' ' ' ' ']\n",
      " [' ' 'O' ' ' ' ' 'O' ' ' ' ' ' ' 'O' ' ']\n",
      " [' ' 'O' 'A' 'A' ' ' ' ' 'O' ' ' ' ' ' ']\n",
      " [' ' ' ' ' ' ' ' ' ' ' ' 'O' ' ' ' ' ' ']\n",
      " [' ' ' ' ' ' 'O' ' ' ' ' 'O' ' ' ' ' 'O']\n",
      " [' ' ' ' ' ' ' ' ' ' ' ' ' ' ' ' ' ' 'O']\n",
      " ['O' 'O' ' ' ' ' ' ' ' ' ' ' ' ' ' ' ' ']\n",
      " [' ' ' ' ' ' ' ' ' ' ' ' ' ' ' ' ' ' 'A']\n",
      " ['A' ' ' ' ' 'O' ' ' ' ' 'X' 'O' 'O' 'O']\n",
      " ['O' ' ' ' ' 'O' ' ' ' ' ' ' ' ' ' ' ' ']]\n",
      "Bender ha dado en:\n",
      "Agua\n",
      "[[' ' 'O' ' ' ' ' ' ' ' ' ' ' ' ' ' ' ' ']\n",
      " ['A' 'O' ' ' ' ' 'O' ' ' ' ' ' ' 'O' ' ']\n",
      " [' ' 'O' 'A' 'A' ' ' ' ' 'O' ' ' ' ' ' ']\n",
      " [' ' ' ' ' ' ' ' ' ' ' ' 'O' ' ' ' ' ' ']\n",
      " [' ' ' ' ' ' 'O' ' ' ' ' 'O' ' ' ' ' 'O']\n",
      " [' ' ' ' ' ' ' ' ' ' ' ' ' ' ' ' ' ' 'O']\n",
      " ['O' 'O' ' ' ' ' ' ' ' ' ' ' ' ' ' ' ' ']\n",
      " [' ' ' ' ' ' ' ' ' ' ' ' ' ' ' ' ' ' 'A']\n",
      " ['A' ' ' ' ' 'O' ' ' ' ' 'X' 'O' 'O' 'O']\n",
      " ['O' ' ' ' ' 'O' ' ' ' ' ' ' ' ' ' ' ' ']]\n",
      "Has dado en:\n",
      "Agua\n",
      "[['A' 'O' ' ' ' ' ' ' ' ' ' ' ' ' ' ' ' ']\n",
      " [' ' 'X' 'A' ' ' 'O' ' ' ' ' ' ' 'O' ' ']\n",
      " ['A' 'X' ' ' ' ' ' ' ' ' 'O' ' ' ' ' ' ']\n",
      " [' ' ' ' ' ' ' ' 'A' ' ' 'O' ' ' ' ' ' ']\n",
      " [' ' ' ' ' ' 'O' ' ' ' ' 'O' ' ' ' ' 'O']\n",
      " [' ' ' ' ' ' ' ' ' ' ' ' ' ' ' ' ' ' 'O']\n",
      " ['O' 'O' ' ' ' ' ' ' ' ' ' ' ' ' ' ' ' ']\n",
      " [' ' ' ' ' ' ' ' ' ' ' ' ' ' ' ' ' ' ' ']\n",
      " [' ' ' ' ' ' 'O' ' ' ' ' 'O' 'O' 'O' 'O']\n",
      " ['O' ' ' ' ' 'O' ' ' ' ' ' ' ' ' ' ' ' ']]\n",
      "Bender ha dado en:\n",
      "Agua\n",
      "[[' ' 'O' ' ' ' ' ' ' ' ' ' ' ' ' ' ' ' ']\n",
      " ['A' 'O' ' ' ' ' 'O' ' ' ' ' ' ' 'O' ' ']\n",
      " [' ' 'O' 'A' 'A' ' ' ' ' 'O' ' ' ' ' ' ']\n",
      " [' ' ' ' ' ' ' ' ' ' ' ' 'O' ' ' ' ' ' ']\n",
      " [' ' ' ' ' ' 'O' ' ' ' ' 'O' ' ' ' ' 'O']\n",
      " [' ' ' ' ' ' 'A' ' ' ' ' ' ' ' ' ' ' 'O']\n",
      " ['O' 'O' ' ' ' ' ' ' ' ' ' ' ' ' ' ' ' ']\n",
      " [' ' ' ' ' ' ' ' ' ' ' ' ' ' ' ' ' ' 'A']\n",
      " ['A' ' ' ' ' 'O' ' ' ' ' 'X' 'O' 'O' 'O']\n",
      " ['O' ' ' ' ' 'O' ' ' ' ' ' ' ' ' ' ' ' ']]\n",
      "Has dado en:\n",
      "Agua\n",
      "[['A' 'O' ' ' ' ' ' ' ' ' ' ' ' ' ' ' ' ']\n",
      " [' ' 'X' 'A' ' ' 'O' ' ' ' ' ' ' 'O' ' ']\n",
      " ['A' 'X' ' ' ' ' ' ' ' ' 'O' ' ' ' ' ' ']\n",
      " [' ' ' ' ' ' ' ' 'A' ' ' 'O' ' ' ' ' ' ']\n",
      " [' ' ' ' ' ' 'O' ' ' ' ' 'O' ' ' ' ' 'O']\n",
      " [' ' ' ' ' ' ' ' 'A' ' ' ' ' ' ' ' ' 'O']\n",
      " ['O' 'O' ' ' ' ' ' ' ' ' ' ' ' ' ' ' ' ']\n",
      " [' ' ' ' ' ' ' ' ' ' ' ' ' ' ' ' ' ' ' ']\n",
      " [' ' ' ' ' ' 'O' ' ' ' ' 'O' 'O' 'O' 'O']\n",
      " ['O' ' ' ' ' 'O' ' ' ' ' ' ' ' ' ' ' ' ']]\n",
      "Bender ha dado en:\n",
      "Agua\n",
      "[[' ' 'O' ' ' ' ' ' ' ' ' ' ' ' ' ' ' ' ']\n",
      " ['A' 'O' ' ' ' ' 'O' ' ' ' ' ' ' 'O' ' ']\n",
      " [' ' 'O' 'A' 'A' ' ' ' ' 'O' ' ' ' ' ' ']\n",
      " [' ' ' ' ' ' ' ' ' ' ' ' 'O' ' ' ' ' ' ']\n",
      " [' ' ' ' ' ' 'O' ' ' ' ' 'O' ' ' ' ' 'O']\n",
      " [' ' ' ' ' ' 'A' ' ' ' ' ' ' ' ' ' ' 'O']\n",
      " ['O' 'O' ' ' ' ' ' ' ' ' ' ' ' ' ' ' ' ']\n",
      " [' ' ' ' ' ' ' ' ' ' ' ' ' ' ' ' ' ' 'A']\n",
      " ['A' ' ' ' ' 'O' ' ' ' ' 'A' 'O' 'O' 'O']\n",
      " ['O' ' ' ' ' 'O' ' ' ' ' ' ' ' ' ' ' ' ']]\n",
      "Has dado en:\n",
      "Agua\n",
      "[['A' 'O' ' ' ' ' ' ' ' ' ' ' ' ' ' ' ' ']\n",
      " [' ' 'X' 'A' ' ' 'O' ' ' ' ' ' ' 'O' ' ']\n",
      " ['A' 'X' ' ' ' ' ' ' ' ' 'O' ' ' ' ' ' ']\n",
      " [' ' ' ' ' ' ' ' 'A' ' ' 'O' ' ' ' ' ' ']\n",
      " [' ' ' ' ' ' 'O' ' ' ' ' 'O' ' ' ' ' 'O']\n",
      " [' ' ' ' ' ' ' ' 'A' ' ' 'A' ' ' ' ' 'O']\n",
      " ['O' 'O' ' ' ' ' ' ' ' ' ' ' ' ' ' ' ' ']\n",
      " [' ' ' ' ' ' ' ' ' ' ' ' ' ' ' ' ' ' ' ']\n",
      " [' ' ' ' ' ' 'O' ' ' ' ' 'O' 'O' 'O' 'O']\n",
      " ['O' ' ' ' ' 'O' ' ' ' ' ' ' ' ' ' ' ' ']]\n",
      "Bender ha dado en:\n",
      "Agua\n",
      "[[' ' 'O' ' ' ' ' ' ' ' ' ' ' ' ' ' ' ' ']\n",
      " ['A' 'O' ' ' ' ' 'O' ' ' ' ' ' ' 'O' ' ']\n",
      " [' ' 'O' 'A' 'A' ' ' ' ' 'O' ' ' ' ' ' ']\n",
      " [' ' ' ' ' ' ' ' ' ' ' ' 'O' ' ' ' ' ' ']\n",
      " [' ' ' ' ' ' 'O' ' ' ' ' 'O' ' ' ' ' 'O']\n",
      " [' ' ' ' ' ' 'A' ' ' ' ' ' ' ' ' ' ' 'O']\n",
      " ['O' 'O' ' ' ' ' ' ' ' ' ' ' ' ' ' ' ' ']\n",
      " [' ' ' ' ' ' ' ' ' ' ' ' ' ' ' ' ' ' 'A']\n",
      " ['A' ' ' ' ' 'O' ' ' ' ' 'A' 'O' 'O' 'O']\n",
      " ['O' ' ' ' ' 'O' ' ' 'A' ' ' ' ' ' ' ' ']]\n",
      "Has dado en:\n",
      "Agua\n",
      "[['A' 'O' ' ' ' ' ' ' ' ' ' ' ' ' ' ' ' ']\n",
      " [' ' 'X' 'A' ' ' 'O' ' ' ' ' ' ' 'O' ' ']\n",
      " ['A' 'X' ' ' ' ' ' ' ' ' 'O' ' ' ' ' ' ']\n",
      " [' ' ' ' ' ' ' ' 'A' ' ' 'O' ' ' ' ' ' ']\n",
      " [' ' ' ' ' ' 'O' ' ' ' ' 'O' ' ' ' ' 'O']\n",
      " [' ' ' ' ' ' ' ' 'A' ' ' 'A' ' ' ' ' 'O']\n",
      " ['O' 'O' ' ' ' ' ' ' ' ' ' ' ' ' ' ' ' ']\n",
      " [' ' ' ' ' ' ' ' ' ' ' ' ' ' ' ' ' ' ' ']\n",
      " [' ' ' ' ' ' 'O' ' ' ' ' 'O' 'O' 'O' 'O']\n",
      " ['O' ' ' ' ' 'O' ' ' ' ' ' ' ' ' ' ' ' ']]\n",
      "Bender ha dado en:\n",
      "Agua\n",
      "[[' ' 'O' ' ' ' ' ' ' ' ' ' ' ' ' ' ' ' ']\n",
      " ['A' 'O' ' ' ' ' 'O' ' ' ' ' ' ' 'O' ' ']\n",
      " [' ' 'O' 'A' 'A' ' ' ' ' 'O' ' ' ' ' ' ']\n",
      " [' ' ' ' ' ' ' ' ' ' ' ' 'O' ' ' ' ' 'A']\n",
      " [' ' ' ' ' ' 'O' ' ' ' ' 'O' ' ' ' ' 'O']\n",
      " [' ' ' ' ' ' 'A' ' ' ' ' ' ' ' ' ' ' 'O']\n",
      " ['O' 'O' ' ' ' ' ' ' ' ' ' ' ' ' ' ' ' ']\n",
      " [' ' ' ' ' ' ' ' ' ' ' ' ' ' ' ' ' ' 'A']\n",
      " ['A' ' ' ' ' 'O' ' ' ' ' 'A' 'O' 'O' 'O']\n",
      " ['O' ' ' ' ' 'O' ' ' 'A' ' ' ' ' ' ' ' ']]\n",
      "Has dado en:\n",
      "Agua\n",
      "[['A' 'O' ' ' ' ' ' ' ' ' ' ' ' ' ' ' ' ']\n",
      " [' ' 'X' 'A' ' ' 'O' ' ' ' ' ' ' 'O' ' ']\n",
      " ['A' 'X' ' ' ' ' ' ' ' ' 'O' ' ' ' ' ' ']\n",
      " [' ' ' ' ' ' ' ' 'A' ' ' 'O' ' ' ' ' ' ']\n",
      " [' ' ' ' ' ' 'O' ' ' ' ' 'O' ' ' ' ' 'O']\n",
      " [' ' ' ' ' ' ' ' 'A' ' ' 'A' ' ' ' ' 'O']\n",
      " ['O' 'O' ' ' ' ' ' ' ' ' ' ' ' ' ' ' ' ']\n",
      " [' ' ' ' ' ' ' ' ' ' ' ' 'A' ' ' ' ' ' ']\n",
      " [' ' ' ' ' ' 'O' ' ' ' ' 'O' 'O' 'O' 'O']\n",
      " ['O' ' ' ' ' 'O' ' ' ' ' ' ' ' ' ' ' ' ']]\n",
      "Bender ha dado en:\n",
      "Agua\n",
      "[[' ' 'O' ' ' ' ' ' ' ' ' ' ' ' ' ' ' ' ']\n",
      " ['A' 'O' ' ' ' ' 'O' ' ' ' ' ' ' 'O' ' ']\n",
      " [' ' 'O' 'A' 'A' ' ' ' ' 'O' ' ' ' ' ' ']\n",
      " [' ' ' ' ' ' ' ' ' ' ' ' 'O' ' ' ' ' 'A']\n",
      " [' ' ' ' ' ' 'O' ' ' ' ' 'O' ' ' ' ' 'O']\n",
      " [' ' ' ' ' ' 'A' ' ' ' ' ' ' ' ' ' ' 'O']\n",
      " ['O' 'O' ' ' ' ' ' ' ' ' ' ' ' ' ' ' ' ']\n",
      " [' ' ' ' 'A' ' ' ' ' ' ' ' ' ' ' ' ' 'A']\n",
      " ['A' ' ' ' ' 'O' ' ' ' ' 'A' 'O' 'O' 'O']\n",
      " ['O' ' ' ' ' 'O' ' ' 'A' ' ' ' ' ' ' ' ']]\n",
      "Has dado en:\n",
      "Agua\n",
      "[['A' 'O' ' ' ' ' ' ' ' ' ' ' ' ' ' ' ' ']\n",
      " [' ' 'X' 'A' ' ' 'O' ' ' ' ' ' ' 'O' ' ']\n",
      " ['A' 'X' ' ' ' ' ' ' ' ' 'O' ' ' ' ' ' ']\n",
      " [' ' ' ' ' ' ' ' 'A' ' ' 'O' ' ' ' ' ' ']\n",
      " [' ' ' ' ' ' 'O' ' ' ' ' 'O' ' ' ' ' 'O']\n",
      " [' ' ' ' ' ' ' ' 'A' ' ' 'A' ' ' ' ' 'O']\n",
      " ['O' 'O' ' ' ' ' ' ' ' ' ' ' 'A' ' ' ' ']\n",
      " [' ' ' ' ' ' ' ' ' ' ' ' 'A' ' ' ' ' ' ']\n",
      " [' ' ' ' ' ' 'O' ' ' ' ' 'O' 'O' 'O' 'O']\n",
      " ['O' ' ' ' ' 'O' ' ' ' ' ' ' ' ' ' ' ' ']]\n",
      "Bender ha dado en:\n",
      "Agua\n",
      "[[' ' 'O' ' ' ' ' ' ' ' ' ' ' ' ' ' ' ' ']\n",
      " ['A' 'O' ' ' ' ' 'O' ' ' ' ' ' ' 'O' ' ']\n",
      " [' ' 'O' 'A' 'A' ' ' ' ' 'O' ' ' ' ' ' ']\n",
      " [' ' ' ' ' ' ' ' ' ' ' ' 'O' ' ' ' ' 'A']\n",
      " [' ' ' ' ' ' 'O' ' ' ' ' 'O' ' ' ' ' 'O']\n",
      " [' ' ' ' ' ' 'A' ' ' ' ' ' ' ' ' ' ' 'O']\n",
      " ['O' 'O' ' ' ' ' ' ' ' ' ' ' ' ' ' ' ' ']\n",
      " [' ' ' ' 'A' ' ' ' ' ' ' ' ' ' ' 'A' 'A']\n",
      " ['A' ' ' ' ' 'O' ' ' ' ' 'A' 'O' 'O' 'O']\n",
      " ['O' ' ' ' ' 'O' ' ' 'A' ' ' ' ' ' ' ' ']]\n",
      "Has dado en:\n",
      "Tocado\n",
      "[['A' 'O' ' ' ' ' ' ' ' ' ' ' ' ' ' ' ' ']\n",
      " [' ' 'X' 'A' ' ' 'O' ' ' ' ' ' ' 'O' ' ']\n",
      " ['A' 'X' ' ' ' ' ' ' ' ' 'O' ' ' ' ' ' ']\n",
      " [' ' ' ' ' ' ' ' 'A' ' ' 'O' ' ' ' ' ' ']\n",
      " [' ' ' ' ' ' 'O' ' ' ' ' 'O' ' ' ' ' 'O']\n",
      " [' ' ' ' ' ' ' ' 'A' ' ' 'A' ' ' ' ' 'O']\n",
      " ['O' 'O' ' ' ' ' ' ' ' ' ' ' 'A' ' ' ' ']\n",
      " [' ' ' ' ' ' ' ' ' ' ' ' 'A' ' ' ' ' ' ']\n",
      " [' ' ' ' ' ' 'O' ' ' ' ' 'O' 'X' 'O' 'O']\n",
      " ['O' ' ' ' ' 'O' ' ' ' ' ' ' ' ' ' ' ' ']]\n"
     ]
    },
    {
     "ename": "ValueError",
     "evalue": "invalid literal for int() with base 10: ''",
     "output_type": "error",
     "traceback": [
      "\u001b[1;31m---------------------------------------------------------------------------\u001b[0m",
      "\u001b[1;31mValueError\u001b[0m                                Traceback (most recent call last)",
      "\u001b[1;32m~\\AppData\\Local\\Temp\\ipykernel_6760\\1341016566.py\u001b[0m in \u001b[0;36m<module>\u001b[1;34m\u001b[0m\n\u001b[0;32m      4\u001b[0m \u001b[1;32mwhile\u001b[0m \u001b[1;34m'O'\u001b[0m \u001b[1;32min\u001b[0m \u001b[0mtablero_j\u001b[0m \u001b[1;32mand\u001b[0m \u001b[1;34m'O'\u001b[0m \u001b[1;32min\u001b[0m \u001b[0mtablero_m\u001b[0m\u001b[1;33m:\u001b[0m\u001b[1;33m\u001b[0m\u001b[1;33m\u001b[0m\u001b[0m\n\u001b[0;32m      5\u001b[0m     \u001b[1;32mwhile\u001b[0m \u001b[0mdisparo_j\u001b[0m \u001b[1;33m!=\u001b[0m \u001b[1;34m'Agua'\u001b[0m\u001b[1;33m:\u001b[0m\u001b[1;33m\u001b[0m\u001b[1;33m\u001b[0m\u001b[0m\n\u001b[1;32m----> 6\u001b[1;33m         \u001b[0mj\u001b[0m \u001b[1;33m=\u001b[0m \u001b[0mturno_jugador\u001b[0m\u001b[1;33m(\u001b[0m\u001b[1;33m)\u001b[0m\u001b[1;33m\u001b[0m\u001b[1;33m\u001b[0m\u001b[0m\n\u001b[0m\u001b[0;32m      7\u001b[0m         \u001b[0mprint\u001b[0m\u001b[1;33m(\u001b[0m\u001b[1;34m'Has dado en:'\u001b[0m\u001b[1;33m)\u001b[0m\u001b[1;33m\u001b[0m\u001b[1;33m\u001b[0m\u001b[0m\n\u001b[0;32m      8\u001b[0m         \u001b[0mtablero_m\u001b[0m\u001b[1;33m,\u001b[0m \u001b[0mdisparo_j\u001b[0m \u001b[1;33m=\u001b[0m \u001b[0mdisparo_jugador\u001b[0m\u001b[1;33m(\u001b[0m\u001b[0mtablero_m\u001b[0m\u001b[1;33m,\u001b[0m \u001b[0mj\u001b[0m\u001b[1;33m)\u001b[0m\u001b[1;33m\u001b[0m\u001b[1;33m\u001b[0m\u001b[0m\n",
      "\u001b[1;32m~\\AppData\\Local\\Temp\\ipykernel_6760\\2740004194.py\u001b[0m in \u001b[0;36mturno_jugador\u001b[1;34m()\u001b[0m\n\u001b[0;32m      2\u001b[0m \u001b[1;33m\u001b[0m\u001b[0m\n\u001b[0;32m      3\u001b[0m \u001b[1;32mdef\u001b[0m \u001b[0mturno_jugador\u001b[0m\u001b[1;33m(\u001b[0m\u001b[1;33m)\u001b[0m\u001b[1;33m:\u001b[0m\u001b[1;33m\u001b[0m\u001b[1;33m\u001b[0m\u001b[0m\n\u001b[1;32m----> 4\u001b[1;33m     \u001b[0mrow\u001b[0m \u001b[1;33m=\u001b[0m \u001b[0mint\u001b[0m\u001b[1;33m(\u001b[0m\u001b[0minput\u001b[0m\u001b[1;33m(\u001b[0m\u001b[1;34m'Row: '\u001b[0m\u001b[1;33m)\u001b[0m\u001b[1;33m)\u001b[0m \u001b[1;33m-\u001b[0m\u001b[1;36m1\u001b[0m\u001b[1;33m\u001b[0m\u001b[1;33m\u001b[0m\u001b[0m\n\u001b[0m\u001b[0;32m      5\u001b[0m     \u001b[0mcol\u001b[0m \u001b[1;33m=\u001b[0m \u001b[0mint\u001b[0m\u001b[1;33m(\u001b[0m\u001b[0minput\u001b[0m\u001b[1;33m(\u001b[0m\u001b[1;34m'Col: '\u001b[0m\u001b[1;33m)\u001b[0m\u001b[1;33m)\u001b[0m \u001b[1;33m-\u001b[0m\u001b[1;36m1\u001b[0m\u001b[1;33m\u001b[0m\u001b[1;33m\u001b[0m\u001b[0m\n\u001b[0;32m      6\u001b[0m     \u001b[1;32mreturn\u001b[0m \u001b[1;33m(\u001b[0m\u001b[0mrow\u001b[0m\u001b[1;33m,\u001b[0m \u001b[0mcol\u001b[0m\u001b[1;33m)\u001b[0m\u001b[1;33m\u001b[0m\u001b[1;33m\u001b[0m\u001b[0m\n",
      "\u001b[1;31mValueError\u001b[0m: invalid literal for int() with base 10: ''"
     ]
    }
   ],
   "source": [
    "\n",
    "disparo_j = ''\n",
    "disparo_m = ''\n",
    "\n",
    "while 'O' in tablero_j and 'O' in tablero_m:\n",
    "    while disparo_j != 'Agua':\n",
    "        j = turno_jugador()\n",
    "        print('Has dado en:')\n",
    "        tablero_m, disparo_j = disparo_jugador(tablero_m, j)\n",
    "        print(tablero_m)\n",
    "        \n",
    "    while disparo_m != 'Agua':\n",
    "        m = turno_maquina()\n",
    "        print('Bender ha dado en:')\n",
    "        tablero_j, disparo_m = disparo_maquina(tablero_j, m)\n",
    "        print(tablero_j)\n",
    "\n",
    "    disparo_j = ''\n",
    "    disparo_m = ''\n",
    "        "
   ]
  },
  {
   "cell_type": "code",
   "execution_count": 19,
   "metadata": {},
   "outputs": [
    {
     "ename": "IndexError",
     "evalue": "only integers, slices (`:`), ellipsis (`...`), numpy.newaxis (`None`) and integer or boolean arrays are valid indices",
     "output_type": "error",
     "traceback": [
      "\u001b[1;31m---------------------------------------------------------------------------\u001b[0m",
      "\u001b[1;31mIndexError\u001b[0m                                Traceback (most recent call last)",
      "\u001b[1;32m~\\AppData\\Local\\Temp\\ipykernel_14180\\1270030274.py\u001b[0m in \u001b[0;36m<module>\u001b[1;34m\u001b[0m\n\u001b[0;32m     37\u001b[0m \u001b[1;32mwhile\u001b[0m \u001b[0mx\u001b[0m \u001b[1;33m<\u001b[0m \u001b[0mlen\u001b[0m\u001b[1;33m(\u001b[0m\u001b[0mlista_barcos\u001b[0m\u001b[1;33m)\u001b[0m\u001b[1;33m:\u001b[0m\u001b[1;33m\u001b[0m\u001b[1;33m\u001b[0m\u001b[0m\n\u001b[0;32m     38\u001b[0m     \u001b[1;32mfor\u001b[0m \u001b[0mj\u001b[0m \u001b[1;32min\u001b[0m \u001b[0mtablero_j\u001b[0m\u001b[1;33m:\u001b[0m\u001b[1;33m\u001b[0m\u001b[1;33m\u001b[0m\u001b[0m\n\u001b[1;32m---> 39\u001b[1;33m         \u001b[0mdisparo_jugador\u001b[0m\u001b[1;33m(\u001b[0m\u001b[0mtablero_j\u001b[0m\u001b[1;33m,\u001b[0m \u001b[0mturno_jugador\u001b[0m\u001b[1;33m)\u001b[0m\u001b[1;33m\u001b[0m\u001b[1;33m\u001b[0m\u001b[0m\n\u001b[0m\u001b[0;32m     40\u001b[0m         \u001b[0mprint\u001b[0m\u001b[1;33m(\u001b[0m\u001b[1;34m'¡Has hecho diana! Juegas de nuevo.'\u001b[0m\u001b[1;33m)\u001b[0m\u001b[1;33m\u001b[0m\u001b[1;33m\u001b[0m\u001b[0m\n\u001b[0;32m     41\u001b[0m \u001b[1;33m\u001b[0m\u001b[0m\n",
      "\u001b[1;32m~\\AppData\\Local\\Temp\\ipykernel_14180\\1270030274.py\u001b[0m in \u001b[0;36mdisparo_jugador\u001b[1;34m(tablero_j, turno_jugador)\u001b[0m\n\u001b[0;32m      7\u001b[0m \u001b[1;33m\u001b[0m\u001b[0m\n\u001b[0;32m      8\u001b[0m \u001b[1;32mdef\u001b[0m \u001b[0mdisparo_jugador\u001b[0m\u001b[1;33m(\u001b[0m\u001b[0mtablero_j\u001b[0m\u001b[1;33m,\u001b[0m \u001b[0mturno_jugador\u001b[0m\u001b[1;33m)\u001b[0m\u001b[1;33m:\u001b[0m\u001b[1;33m\u001b[0m\u001b[1;33m\u001b[0m\u001b[0m\n\u001b[1;32m----> 9\u001b[1;33m     \u001b[1;32mif\u001b[0m \u001b[0mtablero_j\u001b[0m\u001b[1;33m[\u001b[0m\u001b[0mturno_jugador\u001b[0m\u001b[1;33m]\u001b[0m \u001b[1;33m==\u001b[0m \u001b[1;34m\"O\"\u001b[0m\u001b[1;33m:\u001b[0m\u001b[1;33m\u001b[0m\u001b[1;33m\u001b[0m\u001b[0m\n\u001b[0m\u001b[0;32m     10\u001b[0m         \u001b[0mprint\u001b[0m\u001b[1;33m(\u001b[0m\u001b[1;34m\"Tocado\"\u001b[0m\u001b[1;33m)\u001b[0m\u001b[1;33m\u001b[0m\u001b[1;33m\u001b[0m\u001b[0m\n\u001b[0;32m     11\u001b[0m         \u001b[0mtablero_j\u001b[0m\u001b[1;33m[\u001b[0m\u001b[0mturno_jugador\u001b[0m\u001b[1;33m]\u001b[0m \u001b[1;33m=\u001b[0m \u001b[1;34m\"X\"\u001b[0m\u001b[1;33m\u001b[0m\u001b[1;33m\u001b[0m\u001b[0m\n",
      "\u001b[1;31mIndexError\u001b[0m: only integers, slices (`:`), ellipsis (`...`), numpy.newaxis (`None`) and integer or boolean arrays are valid indices"
     ]
    }
   ],
   "source": [
    "# def turno_jugador():\n",
    "#     # Subtract 1 to adjust for python 0-based indexing\n",
    "#     row = int(input('Row: ')) - 1\n",
    "#     col = int(input('Col: ')) - 1\n",
    "#     return (row, col)\n",
    "    \n",
    "\n",
    "# def disparo_jugador(tablero_j, turno_jugador):\n",
    "#     if tablero_j[turno_jugador] == \"O\":\n",
    "#         print(\"Tocado\")\n",
    "#         tablero_j[turno_jugador] = \"X\"\n",
    "#     else:\n",
    "#         print(\"Agua\")\n",
    "#         tablero_j[turno_jugador] = \"-\"\n",
    "    \n",
    "#     return tablero_j\n",
    "\n",
    "# def turno_maquina():\n",
    "#     # Subtract 1 to adjust for python 0-based indexing\n",
    "#     row = np.random.randint(10)\n",
    "#     col = np.random.randint(10)\n",
    "#     return (row, col)\n",
    "    \n",
    "\n",
    "# def disparo_maquina(tablero_m, turno_maquina):\n",
    "#     if tablero_m[turno_maquina] == \"O\":\n",
    "#         print(\"Tocado\")\n",
    "#         tablero_m[turno_maquina] = \"X\"\n",
    "#     else:\n",
    "#         print(\"Agua\")\n",
    "#         tablero_m[turno_maquina] = \"-\"\n",
    "    \n",
    "#     return tablero_m\n",
    "\n",
    "\n",
    "# x = 1\n",
    "# while x < len(barcos):\n",
    "#     for j in tablero_j: \n",
    "#         disparo_jugador(tablero_j, turno_jugador)\n",
    "#         print('¡Has hecho diana! Juegas de nuevo.')\n",
    "        \n",
    "#         disparo_maquina(tablero_m, turno_maquina)\n",
    "#         print('No has acertado, ahora le toca a Bender.')\n",
    "\n",
    "#     for m in tablero_m:\n",
    "#         disparo_maquina(tablero_m, turno_maquina)\n",
    "#         print('Bender ha acertado, dispara otra vez.')\n",
    "        \n",
    "#         disparo_maquina(tablero_m, turno_maquina)\n",
    "#         print('Bender ha fallado, dispara de nuevo.')\n",
    "\n"
   ]
  },
  {
   "cell_type": "code",
   "execution_count": 20,
   "metadata": {},
   "outputs": [
    {
     "name": "stderr",
     "output_type": "stream",
     "text": [
      "c:\\Users\\IRENE\\AppData\\Local\\Programs\\Python\\Python37\\lib\\site-packages\\ipykernel_launcher.py:2: FutureWarning: elementwise comparison failed; returning scalar instead, but in the future will perform elementwise comparison\n",
      "  \n"
     ]
    }
   ],
   "source": [
    "# j = 1\n",
    "# m = 1\n",
    "# barco = 1\n",
    "# while barco in tablero_m:\n",
    "#     if barco in tablero_j:\n",
    "#         disparo_jugador(tablero_j, turno_jugador)\n",
    "#         disparo_maquina(tablero_m, turno_maquina)\n",
    "\n",
    "# c:\\Users\\IRENE\\AppData\\Local\\Programs\\Python\\Python37\\lib\\site-packages\\ipykernel_launcher.py:2: \n",
    "# #FutureWarning: elementwise comparison failed; returning scalar instead, but in the future will perform elementwise comparison\n"
   ]
  },
  {
   "cell_type": "code",
   "execution_count": 21,
   "metadata": {},
   "outputs": [
    {
     "ename": "SyntaxError",
     "evalue": "invalid syntax (2285160786.py, line 11)",
     "output_type": "error",
     "traceback": [
      "\u001b[1;36m  File \u001b[1;32m\"C:\\Users\\IRENE\\AppData\\Local\\Temp\\ipykernel_14180\\2285160786.py\"\u001b[1;36m, line \u001b[1;32m11\u001b[0m\n\u001b[1;33m    for disparo_maquina(tablero_m, turno_maquina):\u001b[0m\n\u001b[1;37m                                                 ^\u001b[0m\n\u001b[1;31mSyntaxError\u001b[0m\u001b[1;31m:\u001b[0m invalid syntax\n"
     ]
    }
   ],
   "source": [
    "\n",
    "\n",
    "# x = 1\n",
    "# while x < len(lista_barcos):\n",
    "#     for barco in tablero_j:\n",
    "#         if barco in tablero_j:\n",
    "#             disparo_jugador(tablero_j, turno_jugador)\n",
    "#             print('¡Has hecho diana! Juegas de nuevo.')\n",
    "#         else:\n",
    "#             disparo_maquina(tablero_m, turno_maquina)\n",
    "#             print('No has acertado, ahora le toca a Bender.')\n",
    "\n",
    "#     for disparo_maquina(tablero_m, turno_maquina):\n",
    "#         if barco in tablero_m:\n",
    "#             disparo_maquina(tablero_m, turno_maquina)\n",
    "#             print('Bender ha acertado, dispara otra vez.')\n",
    "#         else:\n",
    "#             disparo_maquina(tablero_m, turno_maquina)\n",
    "#             print('Bender ha fallado, dispara de nuevo.')\n"
   ]
  },
  {
   "cell_type": "code",
   "execution_count": null,
   "metadata": {},
   "outputs": [],
   "source": [
    "# x = 1\n",
    "# j\n",
    "# m\n",
    "# while x < len(lista_barcos):\n",
    "#     for disparo_jugador(tablero_j, turno_jugador):\n",
    "#         if j in tablero_j:\n",
    "#             disparo_jugador(tablero_j, turno_jugador)\n",
    "#             print('¡Has hecho diana! Juegas de nuevo.')\n",
    "#         else:\n",
    "#             disparo_maquina(tablero_m, turno_maquina)\n",
    "#             print('No has acertado, ahora le toca a Bender.')\n",
    "\n",
    "#     for disparo_maquina(tablero_m, turno_maquina):\n",
    "#         if m in tablero_m:\n",
    "#             disparo_maquina(tablero_m, turno_maquina)\n",
    "#             print('Bender ha acertado, dispara otra vez.')\n",
    "#         else:\n",
    "#             disparo_maquina(tablero_m, turno_maquina)\n",
    "#             print('Bender ha fallado, te toca de nuevo.')"
   ]
  },
  {
   "cell_type": "code",
   "execution_count": 49,
   "metadata": {},
   "outputs": [
    {
     "ename": "SyntaxError",
     "evalue": "invalid syntax (2731809296.py, line 39)",
     "output_type": "error",
     "traceback": [
      "\u001b[1;36m  File \u001b[1;32m\"C:\\Users\\IRENE\\AppData\\Local\\Temp\\ipykernel_14764\\2731809296.py\"\u001b[1;36m, line \u001b[1;32m39\u001b[0m\n\u001b[1;33m    for disparo_jugador(tablero_j, turno_jugador):\u001b[0m\n\u001b[1;37m                                                 ^\u001b[0m\n\u001b[1;31mSyntaxError\u001b[0m\u001b[1;31m:\u001b[0m invalid syntax\n"
     ]
    }
   ],
   "source": [
    "\n",
    "# x = 1\n",
    "# while x < len(lista_barcos):\n",
    "#     for disparo_jugador(tablero_j, turno_jugador):\n",
    "#         if 'X' in tablero_j:\n",
    "#             disparo_jugador(tablero_j, turno_jugador)\n",
    "#             print('¡Has hecho diana! Juegas de nuevo.')\n",
    "#         else:\n",
    "#             disparo_maquina(tablero_m, turno_maquina)\n",
    "#             print('No has acertado, ahora le toca a Bender.')\n",
    "\n",
    "#     for disparo_maquina(tablero_m, turno_maquina):\n",
    "#         if 'X'in tablero_m:\n",
    "#             disparo_maquina(tablero_m, turno_maquina)\n",
    "#             print('Bender ha acertado, dispara otra vez.')\n",
    "#         else:\n",
    "#             disparo_maquina(tablero_m, turno_maquina)\n",
    "#             print('Bender ha fallado, te toca de nuevo.')\n",
    "        "
   ]
  }
 ],
 "metadata": {
  "kernelspec": {
   "display_name": "Python 3.7.4 64-bit",
   "language": "python",
   "name": "python3"
  },
  "language_info": {
   "codemirror_mode": {
    "name": "ipython",
    "version": 3
   },
   "file_extension": ".py",
   "mimetype": "text/x-python",
   "name": "python",
   "nbconvert_exporter": "python",
   "pygments_lexer": "ipython3",
   "version": "3.7.4"
  },
  "orig_nbformat": 4,
  "vscode": {
   "interpreter": {
    "hash": "f9d13b5290330b663afaff99531415167a1442545ab466441da89c47cd128532"
   }
  }
 },
 "nbformat": 4,
 "nbformat_minor": 2
}
